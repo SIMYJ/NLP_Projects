{
 "cells": [
  {
   "cell_type": "markdown",
   "id": "enormous-fiction",
   "metadata": {},
   "source": [
    "# **프로젝트: 한영 번역기 만들기**"
   ]
  },
  {
   "cell_type": "code",
   "execution_count": 1,
   "id": "modern-boring",
   "metadata": {},
   "outputs": [
    {
     "name": "stdout",
     "output_type": "stream",
     "text": [
      "2.4.1\n"
     ]
    }
   ],
   "source": [
    "import tensorflow as tf\n",
    "import numpy as np\n",
    "\n",
    "from sklearn.model_selection import train_test_split\n",
    "\n",
    "import matplotlib.ticker as ticker\n",
    "import matplotlib.pyplot as plt\n",
    "\n",
    "import time\n",
    "import re\n",
    "import os\n",
    "import io\n",
    "\n",
    "print(tf.__version__)"
   ]
  },
  {
   "cell_type": "markdown",
   "id": "developing-report",
   "metadata": {},
   "source": [
    "### **Step 1. 데이터 다운로드**\n",
    "\n",
    "---\n",
    "\n",
    "아래 링크에서 **`korean-english-park.train.tar.gz`** 를 다운로드받아 한영 병렬 데이터를 확보합니다.\n",
    "\n",
    "- [jungyeul/korean-parallel-corpora](https://github.com/jungyeul/korean-parallel-corpora/tree/master/korean-english-news-v1)\n",
    "\n",
    "\n",
    "준비물\n",
    "```\n",
    "$ mkdir -p ~/aiffel/s2s_translation\n",
    "$ sudo apt -qq -y install fonts-nanum\n",
    "\n",
    "\n",
    "```"
   ]
  },
  {
   "cell_type": "code",
   "execution_count": 2,
   "id": "secret-camcorder",
   "metadata": {},
   "outputs": [],
   "source": [
    "#다만 matplotlib 라이브러리의 기본 폰트는 한국어를 지원하지 않아요!\n",
    "#올바른 Attention Map을 확인하기 위해 한국어를 지원하는 폰트로 변경해 주도록 합시다.\n",
    "import matplotlib as mpl\n",
    "import matplotlib.pyplot as plt\n",
    "\n",
    "%config InlineBackend.figure_format = 'retina'\n",
    "\n",
    "import matplotlib.font_manager as fm\n",
    "fontpath = '/usr/share/fonts/truetype/nanum/NanumBarunGothic.ttf'\n",
    "font = fm.FontProperties(fname=fontpath, size=9)\n",
    "plt.rc('font', family='NanumBarunGothic')\n",
    "mpl.font_manager._rebuild()"
   ]
  },
  {
   "cell_type": "code",
   "execution_count": 3,
   "id": "heated-fossil",
   "metadata": {},
   "outputs": [],
   "source": [
    "path_to_file_ko = os.getenv('HOME')+'/aiffel/s2s_translation/korean-english-park.train.ko'\n",
    "path_to_file_en = os.getenv('HOME')+'/aiffel/s2s_translation/korean-english-park.train.en'"
   ]
  },
  {
   "cell_type": "markdown",
   "id": "adult-puppy",
   "metadata": {},
   "source": [
    "다운로드받은 데이터를 읽어온 후, 형태를 확인"
   ]
  },
  {
   "cell_type": "code",
   "execution_count": 4,
   "id": "sustainable-teaching",
   "metadata": {},
   "outputs": [
    {
     "name": "stdout",
     "output_type": "stream",
     "text": [
      "Data Size: 94123\n",
      "Example:\n",
      ">> 개인용 컴퓨터 사용의 상당 부분은 \"이것보다 뛰어날 수 있느냐?\"\n",
      ">> 북한의 핵무기 계획을 포기하도록 하려는 압력이 거세지고 있는 가운데, 일본과 북한의 외교관들이 외교 관계를 정상화하려는 회담을 재개했다.\n",
      ">> \"경호 로보트가 침입자나 화재를 탐지하기 위해서 개인적으로, 그리고 전문적으로 사용되고 있습니다.\"\n",
      ">> 수자원부 당국은 논란이 되고 있고, 막대한 비용이 드는 이 사업에 대해 내년에 건설을 시작할 계획이다.\n",
      ">> 또한 근력 운동은 활발하게 걷는 것이나 최소한 20분 동안 뛰는 것과 같은 유산소 활동에서 얻는 운동 효과를 심장과 폐에 주지 않기 때문에, 연구학자들은 근력 운동이 심장에 큰 영향을 미치는지 여부에 대해 논쟁을 해왔다.\n"
     ]
    }
   ],
   "source": [
    "with open(path_to_file_ko, \"r\") as f:\n",
    "    raw_ko = f.read().splitlines()\n",
    "\n",
    "print(\"Data Size:\", len(raw_ko))\n",
    "print(\"Example:\")\n",
    "\n",
    "for sen in raw_ko[0:100][::20]: print(\">>\", sen)"
   ]
  },
  {
   "cell_type": "code",
   "execution_count": 5,
   "id": "statutory-annex",
   "metadata": {},
   "outputs": [
    {
     "name": "stdout",
     "output_type": "stream",
     "text": [
      "Data Size: 94123\n",
      "Example:\n",
      ">> Much of personal computing is about \"can you top this?\"\n",
      ">> Amid mounting pressure on North Korea to abandon its nuclear weapons program Japanese and North Korean diplomats have resumed talks on normalizing diplomatic relations.\n",
      ">> “Guard robots are used privately and professionally to detect intruders or fire,” Karlsson said.\n",
      ">> Authorities from the Water Resources Ministry plan to begin construction next year on the controversial and hugely expensive project.\n",
      ">> Researchers also have debated whether weight-training has a big impact on the heart, since it does not give the heart and lungs the kind of workout they get from aerobic activities such as brisk walking or running for at least 20 minutes.\n"
     ]
    }
   ],
   "source": [
    "with open(path_to_file_en, \"r\") as f:\n",
    "    raw_en = f.read().splitlines()\n",
    "\n",
    "print(\"Data Size:\", len(raw_en))\n",
    "print(\"Example:\")\n",
    "\n",
    "for sen in raw_en[0:100][::20]: print(\">>\", sen)"
   ]
  },
  {
   "cell_type": "markdown",
   "id": "fresh-recovery",
   "metadata": {},
   "source": [
    "### **Step 2. 데이터 정제**\n",
    "\n",
    "---"
   ]
  },
  {
   "cell_type": "markdown",
   "id": "moral-extension",
   "metadata": {},
   "source": [
    "1) **`set`** 데이터형이 **중복을 허용하지 않는다는 것을 활용**해 중복된 데이터를 제거하도록 합니다. 데이터의 **병렬 쌍이 흐트러지지 않게 주의**하세요! 중복을 제거한 데이터를 **`cleaned_corpus`** 에 저장합니다."
   ]
  },
  {
   "cell_type": "markdown",
   "id": "substantial-decrease",
   "metadata": {},
   "source": [
    " **잘못된 정제**"
   ]
  },
  {
   "cell_type": "code",
   "execution_count": 6,
   "id": "virgin-consolidation",
   "metadata": {
    "scrolled": true
   },
   "outputs": [
    {
     "name": "stdout",
     "output_type": "stream",
     "text": [
      "이라크 모술에서는 2일 경찰서 외곽 경찰 검문소에서 발생한 자살폭탄테러로 경찰관 4명 포함 9명이 숨지고 46명이 다쳤다고 모술의 경찰관이 밝혔다.\n",
      "The pollution is carried downstream by the Mississippi and comes from throughout the United States.\n"
     ]
    }
   ],
   "source": [
    "cleaned_corpos_kr = list(set(raw_ko))\n",
    "cleaned_corpos_en = list(set(raw_en))\n",
    "\n",
    "print(cleaned_corpos_kr[0])\n",
    "print(cleaned_corpos_en[0])"
   ]
  },
  {
   "cell_type": "markdown",
   "id": "vanilla-office",
   "metadata": {},
   "source": [
    "**잘된 정제**"
   ]
  },
  {
   "cell_type": "code",
   "execution_count": 7,
   "id": "mysterious-spectrum",
   "metadata": {},
   "outputs": [],
   "source": [
    "cleaned_corpus = list(set(zip(raw_ko, raw_en)))"
   ]
  },
  {
   "cell_type": "markdown",
   "id": "capable-england",
   "metadata": {},
   "source": [
    "**출력**"
   ]
  },
  {
   "cell_type": "code",
   "execution_count": 8,
   "id": "public-postcard",
   "metadata": {
    "scrolled": true
   },
   "outputs": [
    {
     "data": {
      "text/plain": [
       "('라고 현학봉 북한 외무성 미국국 부국장이 수요일 오후 말했다고 보도되었다.',\n",
       " '“There is a delay in the implementation of economic compensation obligations to be undertaken by the other countries in the six-party talks,” Hyun Hak Bong, deputy director of the North Korean Foreign Ministry´s American affairs bureau, was quoted as saying late on Wednesday.')"
      ]
     },
     "execution_count": 8,
     "metadata": {},
     "output_type": "execute_result"
    }
   ],
   "source": [
    "cleaned_corpus[0]"
   ]
  },
  {
   "cell_type": "code",
   "execution_count": 9,
   "id": "sporting-horse",
   "metadata": {},
   "outputs": [
    {
     "name": "stdout",
     "output_type": "stream",
     "text": [
      "78968\n"
     ]
    }
   ],
   "source": [
    "#94123 -> 78968  \n",
    "print(len(cleaned_corpus))"
   ]
  },
  {
   "cell_type": "markdown",
   "id": "steady-review",
   "metadata": {},
   "source": [
    "2) 앞서 정의한 **`preprocessing()`** 함수는 한글에 대해 동작하지 않습니다. **한글에 적용할 수 있는 정규식**을 추가하여 함수를 재정의하세요!"
   ]
  },
  {
   "cell_type": "markdown",
   "id": "spatial-phrase",
   "metadata": {},
   "source": [
    "3) 타겟 언어인 영문엔 **`<start>`** 토큰과 **`<end>`** 토큰을 추가하고 **`split()`** 함수로 토큰화합니다. 한글 토큰화는 KoNLPy의 **`mecab`** 클래스를 사용합니다. KoNLPy가 설치되어 있지 않다면 아래 문서를 참고해 설치해 주세요."
   ]
  },
  {
   "cell_type": "code",
   "execution_count": 10,
   "id": "serious-relation",
   "metadata": {},
   "outputs": [],
   "source": [
    "from konlpy.tag import Mecab\n",
    "mecab = Mecab()\n",
    "\n",
    "def preprocess_sentence(sentence, s_token=False, e_token=False):\n",
    "    sentence = sentence.lower().strip()\n",
    "\n",
    "    sentence = re.sub(r\"([?.!,])\", r\" \\1 \", sentence)\n",
    "    sentence = re.sub(r'[\" \"]+', \" \", sentence)\n",
    "    sentence = re.sub(r\"[^ㄱ-ㅎㅏ-ㅣ가-힣a-zA-Z?.!,]+\", \" \", sentence)\n",
    "\n",
    "\n",
    "    sentence = sentence.strip()\n",
    "\n",
    "    if s_token:\n",
    "        sentence = '<start> ' + sentence\n",
    "\n",
    "    if e_token:\n",
    "        sentence += ' <end>'\n",
    "        \n",
    "    if s_token == False:\n",
    "        sentence = mecab.morphs(sentence)\n",
    "    else:\n",
    "        sentence = sentence.split()\n",
    "        \n",
    "    \n",
    "    return sentence"
   ]
  },
  {
   "cell_type": "markdown",
   "id": "progressive-bridal",
   "metadata": {},
   "source": [
    "\n",
    "모든 데이터를 사용할 경우 학습에 굉장히 오랜 시간이 걸립니다. **`cleaned_corpus`**로부터 **토큰의 길이가 40 이하인 데이터를 선별**하여 **`eng_corpus`**와 **`kor_corpus`**를 각각 구축하세요."
   ]
  },
  {
   "cell_type": "code",
   "execution_count": 11,
   "id": "national-landing",
   "metadata": {
    "scrolled": false
   },
   "outputs": [
    {
     "name": "stdout",
     "output_type": "stream",
     "text": [
      "66483\n",
      "66483\n",
      "Korean: ['최근', '이슬라마바드', '붉', '은', '사원', '에서', '는', '보안', '군', '과', '이슬람', '근본주의', '학생', '들', '이', '충돌', ',', '폭력', '사태', '를', '악화', '시켰', '다', '.']\n",
      "English: ['<start>', 'militants', 'and', 'radical', 'students', 'holed', 'up', 'in', 'the', 'mosque', 'two', 'weeks', 'ago', 'after', 'a', 'battle', 'with', 'police', '.', '<end>']\n"
     ]
    }
   ],
   "source": [
    "kor_corpus = []\n",
    "eng_corpus = []\n",
    "\n",
    "#num_examples = 6000\n",
    "\n",
    "for tmp in cleaned_corpus:\n",
    "    tmp_ko = preprocess_sentence(tmp[0])\n",
    "    tmp_en = preprocess_sentence(tmp[1], s_token=True, e_token=True)\n",
    "    if len(tmp_ko) <= 40:\n",
    "        kor_corpus.append(tmp_ko)\n",
    "        eng_corpus.append(tmp_en)\n",
    "\n",
    "print(len(kor_corpus))\n",
    "print(len(eng_corpus))\n",
    "print(\"Korean:\", kor_corpus[100])   \n",
    "print(\"English:\", eng_corpus[100])"
   ]
  },
  {
   "cell_type": "code",
   "execution_count": 12,
   "id": "widespread-washington",
   "metadata": {},
   "outputs": [
    {
     "name": "stdout",
     "output_type": "stream",
     "text": [
      "<start> | there | is | a | delay | in | the | implementation | of | economic | compensation | obligations | to | be | undertaken | by | the | other | countries | in | the | six | party | talks | , | hyun | hak | bong | , | deputy | director | of | the | north | korean | foreign | ministry | s | american | affairs | bureau | , | was | quoted | as | saying | late | on | wednesday | . | <end> | "
     ]
    }
   ],
   "source": [
    "for text in eng_corpus[0]:\n",
    "    print(text+' | ',end=\"\")"
   ]
  },
  {
   "cell_type": "code",
   "execution_count": 13,
   "id": "still-joint",
   "metadata": {},
   "outputs": [
    {
     "name": "stdout",
     "output_type": "stream",
     "text": [
      "라고 | 현 | 학봉 | 북한 | 외무성 | 미국 | 국 | 부국 | 장이 | 수요일 | 오후 | 말 | 했 | 다고 | 보도 | 되 | 었 | 다 | . | "
     ]
    }
   ],
   "source": [
    "for text in kor_corpus[0]:\n",
    "    print(text+' | ',end=\"\")"
   ]
  },
  {
   "cell_type": "markdown",
   "id": "lyric-architecture",
   "metadata": {},
   "source": [
    "### **Step 3. 데이터 토큰화**\n",
    "\n",
    "---\n",
    "\n",
    "앞서 정의한 **`tokenize()`** 함수를 사용해 데이터를 텐서로 변환하고 각각의 **`tokenizer`**를 얻으세요! 단어의 수는 실험을 통해 적당한 값을 맞춰주도록 합니다! *(최소 10,000 이상!)*\n",
    "\n",
    "*난이도에 비해 데이터가 많지 않아 훈련 데이터와 검증 데이터를 따로 나누지는 않습니다.*"
   ]
  },
  {
   "cell_type": "code",
   "execution_count": 14,
   "id": "fantastic-nurse",
   "metadata": {},
   "outputs": [],
   "source": [
    "def tokenize(corpus):\n",
    "    tokenizer = tf.keras.preprocessing.text.Tokenizer(filters='')\n",
    "    tokenizer.fit_on_texts(corpus)\n",
    "\n",
    "    tensor = tokenizer.texts_to_sequences(corpus)\n",
    "\n",
    "    tensor = tf.keras.preprocessing.sequence.pad_sequences(tensor, padding='post')\n",
    "\n",
    "    return tensor, tokenizer"
   ]
  },
  {
   "cell_type": "code",
   "execution_count": 15,
   "id": "modified-parks",
   "metadata": {},
   "outputs": [
    {
     "name": "stdout",
     "output_type": "stream",
     "text": [
      "한국어 Vocab Size: 45423\n",
      "외국어 Vocab Size: 39979\n"
     ]
    }
   ],
   "source": [
    "# 토큰화하기\n",
    "# 훈련 데이터와 검증 데이터로 분리하기\n",
    "enc_tensor, enc_tokenizer = tokenize(kor_corpus)\n",
    "dec_tensor, dec_tokenizer = tokenize(eng_corpus)\n",
    "\n",
    "#enc_train, enc_val, dec_train, dec_val = \\train_test_split(enc_tensor, dec_tensor, test_size=0.2)\n",
    "\n",
    "print(\"한국어 Vocab Size:\", len(enc_tokenizer.index_word))\n",
    "print(\"외국어 Vocab Size:\", len(dec_tokenizer.index_word))\n"
   ]
  },
  {
   "cell_type": "markdown",
   "id": "behavioral-salmon",
   "metadata": {},
   "source": [
    "### **Step 4. 모델 설계**\n",
    "\n",
    "---\n",
    "\n",
    "한국어를 영어로 잘 번역해 줄 멋진 **Attention 기반 Seq2seq 모델을 설계**하세요! 앞서 만든 모델에 **`Dropout`** 모듈을 추가하면 성능이 더 좋아질 거랍니다! **`Embedding Size`**와 **`Hidden Size`**는 실험을 통해 적당한 값을 맞춰 주도록 합니다!"
   ]
  },
  {
   "cell_type": "code",
   "execution_count": 16,
   "id": "indirect-legislature",
   "metadata": {},
   "outputs": [],
   "source": [
    "class BahdanauAttention(tf.keras.layers.Layer):\n",
    "    def __init__(self, units):\n",
    "        super(BahdanauAttention, self).__init__()\n",
    "        self.w_dec = tf.keras.layers.Dense(units)\n",
    "        self.w_enc = tf.keras.layers.Dense(units)\n",
    "        self.w_com = tf.keras.layers.Dense(1)\n",
    "    \n",
    "    def call(self, h_enc, h_dec):\n",
    "        # h_enc shape: [batch x length x units]\n",
    "        # h_dec shape: [batch x units]\n",
    "\n",
    "        h_enc = self.w_enc(h_enc)\n",
    "        h_dec = tf.expand_dims(h_dec, 1)\n",
    "        h_dec = self.w_dec(h_dec)\n",
    "\n",
    "        score = self.w_com(tf.nn.tanh(h_dec + h_enc))\n",
    "        \n",
    "        attn = tf.nn.softmax(score, axis=1)\n",
    "\n",
    "        context_vec = attn * h_enc\n",
    "        context_vec = tf.reduce_sum(context_vec, axis=1)\n",
    "\n",
    "        return context_vec, attn"
   ]
  },
  {
   "cell_type": "code",
   "execution_count": 17,
   "id": "straight-nudist",
   "metadata": {},
   "outputs": [],
   "source": [
    "class Encoder(tf.keras.Model):\n",
    "    def __init__(self, vocab_size, embedding_dim, enc_units):\n",
    "        super(Encoder, self).__init__()\n",
    "\n",
    "        self.enc_units = enc_units\n",
    "        self.embedding = tf.keras.layers.Embedding(vocab_size, embedding_dim)\n",
    "        self.gru = tf.keras.layers.GRU(enc_units,\n",
    "                                       return_sequences=True)\n",
    "\n",
    "    def call(self, x):\n",
    "        out = self.embedding(x)\n",
    "        out = self.gru(out)\n",
    "\n",
    "        return out"
   ]
  },
  {
   "cell_type": "code",
   "execution_count": 18,
   "id": "approved-cincinnati",
   "metadata": {},
   "outputs": [],
   "source": [
    "class Decoder(tf.keras.Model):\n",
    "    def __init__(self, vocab_size, embedding_dim, dec_units):\n",
    "        super(Decoder, self).__init__()\n",
    "        self.dec_units = dec_units\n",
    "        self.embedding = tf.keras.layers.Embedding(vocab_size, embedding_dim)\n",
    "        self.gru = tf.keras.layers.GRU(dec_units,\n",
    "                                       return_sequences=True,\n",
    "                                       return_state=True)\n",
    "        self.fc = tf.keras.layers.Dense(vocab_size)\n",
    "\n",
    "        self.attention = BahdanauAttention(self.dec_units)\n",
    "\n",
    "    def call(self, x, h_dec, enc_out):\n",
    "        context_vec, attn = self.attention(enc_out, h_dec)\n",
    "\n",
    "        out = self.embedding(x)\n",
    "        out = tf.concat([tf.expand_dims(context_vec, 1), out], axis=-1)\n",
    "\n",
    "        out, h_dec = self.gru(out)\n",
    "        out = tf.reshape(out, (-1, out.shape[2]))\n",
    "        out = self.fc(out)\n",
    "\n",
    "        return out, h_dec, attn"
   ]
  },
  {
   "cell_type": "code",
   "execution_count": 19,
   "id": "limiting-playing",
   "metadata": {},
   "outputs": [
    {
     "name": "stdout",
     "output_type": "stream",
     "text": [
      "Encoder Output: (64, 30, 128)\n",
      "Decoder Output: (64, 39980)\n",
      "Decoder Hidden State: (64, 128)\n",
      "Attention: (64, 30, 1)\n"
     ]
    }
   ],
   "source": [
    "# 코드를 실행하세요.\n",
    "\n",
    "BATCH_SIZE     = 64\n",
    "SRC_VOCAB_SIZE = len(enc_tokenizer.index_word) + 1 #<your_src_vocab_size> # 예: len(enc_tokenizer.index_word) + 1\n",
    "TGT_VOCAB_SIZE = len(dec_tokenizer.index_word) + 1#<your_tgt_vocab_size> # 예: len(dec_tokenizer.index_word) + 1\n",
    "\n",
    "units         = 128\n",
    "embedding_dim = 256\n",
    "\n",
    "encoder = Encoder(SRC_VOCAB_SIZE, embedding_dim, units)\n",
    "decoder = Decoder(TGT_VOCAB_SIZE, embedding_dim, units)\n",
    "\n",
    "# sample input\n",
    "sequence_len = 30\n",
    "\n",
    "sample_enc = tf.random.uniform((BATCH_SIZE, sequence_len))\n",
    "sample_output = encoder(sample_enc)\n",
    "\n",
    "print ('Encoder Output:', sample_output.shape)\n",
    "\n",
    "sample_state = tf.random.uniform((BATCH_SIZE, units))\n",
    "\n",
    "sample_logits, h_dec, attn = decoder(tf.random.uniform((BATCH_SIZE, 1)),\n",
    "                                     sample_state, sample_output)\n",
    "\n",
    "print ('Decoder Output:', sample_logits.shape)\n",
    "print ('Decoder Hidden State:', h_dec.shape)\n",
    "print ('Attention:', attn.shape)"
   ]
  },
  {
   "cell_type": "markdown",
   "id": "danish-avatar",
   "metadata": {},
   "source": [
    "### **Step 5. 훈련하기**\n",
    "\n",
    "### **Optimizer & Loss**\n",
    "\n",
    "---\n",
    "\n",
    "가장 큰 줄기를 먼저 보고, 점점 더 들어가 보는 방식으로 진행해볼게요. 첫 순서는 **Optimizer와 Loss**입니다!"
   ]
  },
  {
   "cell_type": "code",
   "execution_count": 20,
   "id": "valuable-northwest",
   "metadata": {},
   "outputs": [],
   "source": [
    "optimizer = tf.keras.optimizers.Adam()\n",
    "loss_object = tf.keras.losses.SparseCategoricalCrossentropy(\n",
    "    from_logits=True, reduction='none')\n",
    "\n",
    "def loss_function(real, pred):\n",
    "    mask = tf.math.logical_not(tf.math.equal(real, 0))\n",
    "    loss = loss_object(real, pred)\n",
    "    \n",
    "    mask = tf.cast(mask, dtype=loss.dtype)\n",
    "    loss *= mask\n",
    "    \n",
    "    return tf.reduce_mean(loss)"
   ]
  },
  {
   "cell_type": "markdown",
   "id": "extreme-thickness",
   "metadata": {},
   "source": [
    "### 훈련하기 train_step 구현하기\n",
    "train_step()은 학습에 필요한 것을 모두 가져가 Loss를 계산한 후 반환하는 함수입니다."
   ]
  },
  {
   "cell_type": "markdown",
   "id": "minimal-migration",
   "metadata": {},
   "source": [
    "- **`@tf.function`**\n",
    "데코레이터는 훈련 외적인 텐서플로우 연산을 GPU에서 동작하게 해 훈련을 가속할 수 있도록 도와줍니다. \n",
    "- [텐서플로 2.0의 tf.function과 오토그래프 (AutoGraph) | TensorFlow Core](https://www.tensorflow.org/guide/function?hl=ko)\n",
    "\n",
    "- **`tf.GradientTape()`**\n",
    " 는 학습하며 발생한 모든 연산을 기록하는 테이프입니다. 이것은 모델이 각 스텝의 최종 단계에서 미분값을 구하는 데에 사용됩니다.    \n",
    "- [텐서플로 2.0의 tf.function과 오토그래프 (AutoGraph) | TensorFlow Core](https://www.tensorflow.org/guide/function?hl=ko)"
   ]
  },
  {
   "cell_type": "markdown",
   "id": "jewish-poison",
   "metadata": {},
   "source": [
    "본론으로 돌아와서 **`train_step()`**의 학습 과정은 아래와 같습니다.\n",
    "\n",
    "1. Encoder에 소스 문장을 전달해 **컨텍스트 벡터인 `enc_out` 을 생성**\n",
    "2. Decoder에 입력으로 전달할 **`<start>` 토큰 문장 생성**\n",
    "3. **t=0일 때**, Decoder의 Hidden State는 **Encoder의 Final State로 정의**. **`h_dec = enc_out[:, -1]`**\n",
    "4. **`<start>`** 문장과 enc_out, Hidden State를 기반으로 **다음 단어(t=1)를 예측**. **`pred`**\n",
    "5. 예측된 단어와 정답 간의 Loss를 구한 후, t=1의 **정답 단어를 다음 입력으로 사용** (예측 단어 X)\n",
    "6. **반복!**"
   ]
  },
  {
   "cell_type": "code",
   "execution_count": 21,
   "id": "binary-driver",
   "metadata": {},
   "outputs": [],
   "source": [
    "@tf.function\n",
    "def train_step(src, tgt, encoder, decoder, optimizer, dec_tok):\n",
    "    bsz = src.shape[0]\n",
    "    loss = 0\n",
    "\n",
    "    with tf.GradientTape() as tape:\n",
    "        enc_out = encoder(src)\n",
    "        h_dec = enc_out[:, -1]\n",
    "        \n",
    "        dec_src = tf.expand_dims([dec_tok.word_index['<start>']] * bsz, 1)\n",
    "\n",
    "        for t in range(1, tgt.shape[1]):\n",
    "            pred, h_dec, _ = decoder(dec_src, h_dec, enc_out)\n",
    "\n",
    "            loss += loss_function(tgt[:, t], pred)\n",
    "            dec_src = tf.expand_dims(tgt[:, t], 1)\n",
    "        \n",
    "    batch_loss = (loss / int(tgt.shape[1]))\n",
    "\n",
    "    variables = encoder.trainable_variables + decoder.trainable_variables\n",
    "    gradients = tape.gradient(loss, variables)\n",
    "    optimizer.apply_gradients(zip(gradients, variables))\n",
    "    \n",
    "    return batch_loss"
   ]
  },
  {
   "cell_type": "markdown",
   "id": "medieval-tuesday",
   "metadata": {},
   "source": [
    "훈련엔 위에서 사용한 코드를 그대로 사용하되, **`eval_step()`** 부분이 없음에 유의합니다! 매 스텝 아래의 예문에 대한 번역을 생성하여 **본인이 생각하기에 가장 멋지게 번역한 Case를 제출**하세요! (Attention Map을 시각화해보는 것도 재밌을 거예요!)"
   ]
  },
  {
   "cell_type": "code",
   "execution_count": 22,
   "id": "chinese-heater",
   "metadata": {},
   "outputs": [],
   "source": [
    "enc_train = enc_tensor\n",
    "dec_train = dec_tensor"
   ]
  },
  {
   "cell_type": "code",
   "execution_count": 23,
   "id": "documentary-fossil",
   "metadata": {
    "scrolled": true
   },
   "outputs": [
    {
     "name": "stderr",
     "output_type": "stream",
     "text": [
      "Epoch  1: 100%|██████████| 1039/1039 [06:15<00:00,  2.76it/s, Loss 1.9425] \n",
      "Epoch  2: 100%|██████████| 1039/1039 [04:47<00:00,  3.61it/s, Loss 1.9158]\n",
      "Epoch  3: 100%|██████████| 1039/1039 [04:41<00:00,  3.70it/s, Loss 1.8859]\n",
      "Epoch  4: 100%|██████████| 1039/1039 [04:43<00:00,  3.67it/s, Loss 1.6504]\n",
      "Epoch  5: 100%|██████████| 1039/1039 [04:34<00:00,  3.78it/s, Loss 1.5111]\n",
      "Epoch  6: 100%|██████████| 1039/1039 [04:45<00:00,  3.63it/s, Loss 1.4218]\n",
      "Epoch  7: 100%|██████████| 1039/1039 [04:55<00:00,  3.52it/s, Loss 1.3494]\n",
      "Epoch  8: 100%|██████████| 1039/1039 [04:39<00:00,  3.71it/s, Loss 1.2917]\n",
      "Epoch  9: 100%|██████████| 1039/1039 [04:41<00:00,  3.69it/s, Loss 1.2423]\n",
      "Epoch 10: 100%|██████████| 1039/1039 [04:46<00:00,  3.62it/s, Loss 1.1967]\n",
      "Epoch 11: 100%|██████████| 1039/1039 [04:35<00:00,  3.77it/s, Loss 1.1554]\n",
      "Epoch 12: 100%|██████████| 1039/1039 [04:35<00:00,  3.77it/s, Loss 1.1169]\n",
      "Epoch 13: 100%|██████████| 1039/1039 [04:48<00:00,  3.60it/s, Loss 1.0804]\n",
      "Epoch 14: 100%|██████████| 1039/1039 [04:41<00:00,  3.69it/s, Loss 1.0485]\n",
      "Epoch 15: 100%|██████████| 1039/1039 [04:38<00:00,  3.73it/s, Loss 1.0153]\n",
      "Epoch 16: 100%|██████████| 1039/1039 [04:49<00:00,  3.59it/s, Loss 0.9848]\n",
      "Epoch 17: 100%|██████████| 1039/1039 [04:42<00:00,  3.68it/s, Loss 0.9584]\n",
      "Epoch 18: 100%|██████████| 1039/1039 [04:44<00:00,  3.65it/s, Loss 0.9332]\n",
      "Epoch 19: 100%|██████████| 1039/1039 [04:35<00:00,  3.77it/s, Loss 0.9087]\n",
      "Epoch 20: 100%|██████████| 1039/1039 [04:41<00:00,  3.69it/s, Loss 0.8864]\n",
      "Epoch 21: 100%|██████████| 1039/1039 [04:41<00:00,  3.70it/s, Loss 0.8662]\n",
      "Epoch 22: 100%|██████████| 1039/1039 [04:41<00:00,  3.69it/s, Loss 0.8450]\n",
      "Epoch 23: 100%|██████████| 1039/1039 [04:44<00:00,  3.65it/s, Loss 0.8332]\n",
      "Epoch 24: 100%|██████████| 1039/1039 [04:37<00:00,  3.74it/s, Loss 0.8101]\n",
      "Epoch 25: 100%|██████████| 1039/1039 [04:45<00:00,  3.63it/s, Loss 0.7912]\n",
      "Epoch 26: 100%|██████████| 1039/1039 [04:45<00:00,  3.64it/s, Loss 0.7834]\n",
      "Epoch 27: 100%|██████████| 1039/1039 [04:38<00:00,  3.73it/s, Loss 0.7632]\n",
      "Epoch 28: 100%|██████████| 1039/1039 [04:49<00:00,  3.59it/s, Loss 0.7477]\n",
      "Epoch 29: 100%|██████████| 1039/1039 [04:44<00:00,  3.65it/s, Loss 0.7660]\n",
      "Epoch 30: 100%|██████████| 1039/1039 [04:33<00:00,  3.80it/s, Loss 0.7320]\n",
      "Epoch 31: 100%|██████████| 1039/1039 [04:41<00:00,  3.68it/s, Loss 0.7074]\n",
      "Epoch 32: 100%|██████████| 1039/1039 [04:39<00:00,  3.72it/s, Loss 0.6952]\n",
      "Epoch 33: 100%|██████████| 1039/1039 [04:56<00:00,  3.51it/s, Loss 0.6881]\n",
      "Epoch 34: 100%|██████████| 1039/1039 [04:41<00:00,  3.69it/s, Loss 0.6794]\n",
      "Epoch 35: 100%|██████████| 1039/1039 [04:40<00:00,  3.71it/s, Loss 0.6677]\n",
      "Epoch 36: 100%|██████████| 1039/1039 [04:45<00:00,  3.63it/s, Loss 0.6975]\n",
      "Epoch 37: 100%|██████████| 1039/1039 [04:41<00:00,  3.69it/s, Loss 0.6585]\n",
      "Epoch 38: 100%|██████████| 1039/1039 [04:48<00:00,  3.60it/s, Loss 0.6352]\n",
      "Epoch 39: 100%|██████████| 1039/1039 [04:32<00:00,  3.81it/s, Loss 0.6279]\n",
      "Epoch 40: 100%|██████████| 1039/1039 [04:43<00:00,  3.66it/s, Loss 0.6250]\n",
      "Epoch 41: 100%|██████████| 1039/1039 [04:33<00:00,  3.79it/s, Loss 0.6180]\n",
      "Epoch 42: 100%|██████████| 1039/1039 [04:47<00:00,  3.62it/s, Loss 0.6080]\n",
      "Epoch 43: 100%|██████████| 1039/1039 [04:41<00:00,  3.69it/s, Loss 0.6090]\n",
      "Epoch 44: 100%|██████████| 1039/1039 [04:46<00:00,  3.63it/s, Loss 0.6014]\n",
      "Epoch 45: 100%|██████████| 1039/1039 [04:42<00:00,  3.68it/s, Loss 0.5834]\n",
      "Epoch 46: 100%|██████████| 1039/1039 [04:47<00:00,  3.62it/s, Loss 0.5855]\n",
      "Epoch 47: 100%|██████████| 1039/1039 [04:43<00:00,  3.67it/s, Loss 0.5759]\n",
      "Epoch 48: 100%|██████████| 1039/1039 [04:37<00:00,  3.74it/s, Loss 0.5675]\n",
      "Epoch 49: 100%|██████████| 1039/1039 [04:46<00:00,  3.62it/s, Loss 0.5606]\n",
      "Epoch 50: 100%|██████████| 1039/1039 [04:43<00:00,  3.67it/s, Loss 0.5575]\n",
      "Epoch 51: 100%|██████████| 1039/1039 [04:44<00:00,  3.65it/s, Loss 0.5491]\n",
      "Epoch 52: 100%|██████████| 1039/1039 [04:47<00:00,  3.62it/s, Loss 0.5444]\n",
      "Epoch 53: 100%|██████████| 1039/1039 [04:41<00:00,  3.69it/s, Loss 0.5437]\n",
      "Epoch 54: 100%|██████████| 1039/1039 [04:46<00:00,  3.63it/s, Loss 0.5304]\n",
      "Epoch 55: 100%|██████████| 1039/1039 [04:32<00:00,  3.81it/s, Loss 0.5255]\n",
      "Epoch 56: 100%|██████████| 1039/1039 [04:31<00:00,  3.83it/s, Loss 0.5214]\n",
      "Epoch 57: 100%|██████████| 1039/1039 [04:48<00:00,  3.60it/s, Loss 0.5184]\n",
      "Epoch 58: 100%|██████████| 1039/1039 [04:35<00:00,  3.76it/s, Loss 0.5137]\n",
      "Epoch 59: 100%|██████████| 1039/1039 [04:43<00:00,  3.66it/s, Loss 0.5138]\n",
      "Epoch 60: 100%|██████████| 1039/1039 [04:26<00:00,  3.90it/s, Loss 0.5022]\n"
     ]
    }
   ],
   "source": [
    "from tqdm import tqdm    # tqdm\n",
    "import random\n",
    "\n",
    "EPOCHS = 60\n",
    "\n",
    "for epoch in range(EPOCHS):\n",
    "    total_loss = 0\n",
    "    \n",
    "    idx_list = list(range(0, enc_train.shape[0], BATCH_SIZE))\n",
    "    random.shuffle(idx_list)\n",
    "    t = tqdm(idx_list)    # tqdm\n",
    "\n",
    "    for (batch, idx) in enumerate(t):\n",
    "        batch_loss = train_step(enc_train[idx:idx+BATCH_SIZE],\n",
    "                                dec_train[idx:idx+BATCH_SIZE],\n",
    "                                encoder,\n",
    "                                decoder,\n",
    "                                optimizer,\n",
    "                                dec_tokenizer)\n",
    "    \n",
    "        total_loss += batch_loss\n",
    "        \n",
    "        t.set_description_str('Epoch %2d' % (epoch + 1))    # tqdm\n",
    "        t.set_postfix_str('Loss %.4f' % (total_loss.numpy() / (batch + 1)))    # tqdm"
   ]
  },
  {
   "cell_type": "code",
   "execution_count": 138,
   "id": "charitable-advertiser",
   "metadata": {},
   "outputs": [],
   "source": [
    "def evaluate(sentence, encoder, decoder):\n",
    "    attention = np.zeros((dec_train.shape[-1], enc_train.shape[-1]))\n",
    "    \n",
    "    sentence = preprocess_sentence(sentence)\n",
    "    inputs = enc_tokenizer.texts_to_sequences([sentence])\n",
    "    inputs = tf.keras.preprocessing.sequence.pad_sequences(inputs,\n",
    "                                                           maxlen=enc_train.shape[-1],\n",
    "                                                           padding='post')\n",
    "\n",
    "    result = ''\n",
    "\n",
    "    enc_out = encoder(inputs)\n",
    "\n",
    "    dec_hidden = enc_out[:, -1]\n",
    "    dec_input = tf.expand_dims([dec_tokenizer.word_index['<start>']], 0)\n",
    "\n",
    "    for t in range(dec_train.shape[-1]):\n",
    "        predictions, dec_hidden, attention_weights = decoder(dec_input,\n",
    "                                                             dec_hidden,\n",
    "                                                             enc_out)\n",
    "\n",
    "        attention_weights = tf.reshape(attention_weights, (-1, ))\n",
    "        attention[t] = attention_weights.numpy()\n",
    "\n",
    "        predicted_id = \\\n",
    "        tf.argmax(tf.math.softmax(predictions, axis=-1)[0]).numpy()\n",
    "\n",
    "        result += dec_tokenizer.index_word[predicted_id] + ' '\n",
    "\n",
    "        if dec_tokenizer.index_word[predicted_id] == '<end>':\n",
    "            return result, sentence, attention\n",
    "\n",
    "        dec_input = tf.expand_dims([predicted_id], 0)\n",
    "\n",
    "    return result, sentence, attention\n"
   ]
  },
  {
   "cell_type": "code",
   "execution_count": 165,
   "id": "animal-produce",
   "metadata": {},
   "outputs": [],
   "source": [
    "def plot_attention(attention, sentence, predicted_sentence):\n",
    "    fig = plt.figure(figsize=(20,20))\n",
    "    ax = fig.add_subplot(1, 1, 1)\n",
    "    ax.matshow(attention, cmap='viridis')\n",
    "\n",
    "    fontdict = {'fontsize': 15}\n",
    "\n",
    "    ax.set_xticklabels([''] + sentence, fontdict=fontdict, rotation=90)\n",
    "    ax.set_yticklabels([''] + predicted_sentence, fontdict=fontdict)\n",
    "\n",
    "    ax.xaxis.set_major_locator(ticker.MultipleLocator(1))\n",
    "    ax.yaxis.set_major_locator(ticker.MultipleLocator(1))\n",
    "\n",
    "    plt.show()"
   ]
  },
  {
   "cell_type": "code",
   "execution_count": 166,
   "id": "liquid-binary",
   "metadata": {},
   "outputs": [],
   "source": [
    "def translate(sentence, encoder, decoder):\n",
    "    result, sentence, attention = evaluate(sentence, encoder, decoder)\n",
    "\n",
    "    print('Input: %s' % (sentence))\n",
    "    print('Predicted translation: {}'.format(result))\n",
    "    \n",
    "    attention = attention[:len(result), :len(sentence)]\n",
    "    plot_attention(attention, str(sentence).split(), str(result).split(' '))"
   ]
  },
  {
   "cell_type": "code",
   "execution_count": 167,
   "id": "metropolitan-blame",
   "metadata": {
    "scrolled": true
   },
   "outputs": [
    {
     "name": "stdout",
     "output_type": "stream",
     "text": [
      "Input: ['오바마', '는', '대통령', '이', '다', '.']\n",
      "Predicted translation: obama is in the president . <end> \n"
     ]
    },
    {
     "name": "stderr",
     "output_type": "stream",
     "text": [
      "/home/aiffel-dj60/anaconda3/envs/aiffel/lib/python3.7/site-packages/ipykernel_launcher.py:8: UserWarning: FixedFormatter should only be used together with FixedLocator\n",
      "  \n",
      "/home/aiffel-dj60/anaconda3/envs/aiffel/lib/python3.7/site-packages/ipykernel_launcher.py:9: UserWarning: FixedFormatter should only be used together with FixedLocator\n",
      "  if __name__ == '__main__':\n"
     ]
    },
    {
     "data": {
      "image/png": "[encoded data removed]",
      "text/plain": [
       "<Figure size 1440x1440 with 1 Axes>"
      ]
     },
     "metadata": {
      "image/png": {
       "height": 1172,
       "width": 278
      },
      "needs_background": "light"
     },
     "output_type": "display_data"
    }
   ],
   "source": [
    "translate(\"오바마는 대통령이다.\", encoder, decoder)"
   ]
  },
  {
   "cell_type": "code",
   "execution_count": 168,
   "id": "russian-continent",
   "metadata": {},
   "outputs": [
    {
     "name": "stdout",
     "output_type": "stream",
     "text": [
      "Input: ['시민', '들', '은', '도시', '속', '에', '산다', '.']\n",
      "Predicted translation: they also a close at three days . <end> \n"
     ]
    },
    {
     "name": "stderr",
     "output_type": "stream",
     "text": [
      "/home/aiffel-dj60/anaconda3/envs/aiffel/lib/python3.7/site-packages/ipykernel_launcher.py:8: UserWarning: FixedFormatter should only be used together with FixedLocator\n",
      "  \n",
      "/home/aiffel-dj60/anaconda3/envs/aiffel/lib/python3.7/site-packages/ipykernel_launcher.py:9: UserWarning: FixedFormatter should only be used together with FixedLocator\n",
      "  if __name__ == '__main__':\n"
     ]
    },
    {
     "data": {
      "image/png": "[encoded data removed]",
      "text/plain": [
       "<Figure size 1440x1440 with 1 Axes>"
      ]
     },
     "metadata": {
      "image/png": {
       "height": 1158,
       "width": 278
      },
      "needs_background": "light"
     },
     "output_type": "display_data"
    }
   ],
   "source": [
    "translate(\"시민들은 도시 속에 산다.\", encoder, decoder)"
   ]
  },
  {
   "cell_type": "code",
   "execution_count": 169,
   "id": "played-fields",
   "metadata": {},
   "outputs": [
    {
     "name": "stdout",
     "output_type": "stream",
     "text": [
      "Input: ['커피', '는', '필요', '없', '다', '.']\n",
      "Predicted translation: there is no word . <end> \n"
     ]
    },
    {
     "name": "stderr",
     "output_type": "stream",
     "text": [
      "/home/aiffel-dj60/anaconda3/envs/aiffel/lib/python3.7/site-packages/ipykernel_launcher.py:8: UserWarning: FixedFormatter should only be used together with FixedLocator\n",
      "  \n",
      "/home/aiffel-dj60/anaconda3/envs/aiffel/lib/python3.7/site-packages/ipykernel_launcher.py:9: UserWarning: FixedFormatter should only be used together with FixedLocator\n",
      "  if __name__ == '__main__':\n"
     ]
    },
    {
     "data": {
      "image/png": "[encoded data removed]",
      "text/plain": [
       "<Figure size 1440x1440 with 1 Axes>"
      ]
     },
     "metadata": {
      "image/png": {
       "height": 1158,
       "width": 321
      },
      "needs_background": "light"
     },
     "output_type": "display_data"
    }
   ],
   "source": [
    "translate(\"커피는 필요 없다.\", encoder, decoder)"
   ]
  },
  {
   "cell_type": "code",
   "execution_count": 170,
   "id": "middle-bottle",
   "metadata": {},
   "outputs": [
    {
     "name": "stdout",
     "output_type": "stream",
     "text": [
      "Input: ['일곱', '명', '의', '사망자', '가', '발생', '했', '다', '.']\n",
      "Predicted translation: seven people died in the blasts . <end> \n"
     ]
    },
    {
     "name": "stderr",
     "output_type": "stream",
     "text": [
      "/home/aiffel-dj60/anaconda3/envs/aiffel/lib/python3.7/site-packages/ipykernel_launcher.py:8: UserWarning: FixedFormatter should only be used together with FixedLocator\n",
      "  \n",
      "/home/aiffel-dj60/anaconda3/envs/aiffel/lib/python3.7/site-packages/ipykernel_launcher.py:9: UserWarning: FixedFormatter should only be used together with FixedLocator\n",
      "  if __name__ == '__main__':\n"
     ]
    },
    {
     "data": {
      "image/png": "[encoded data removed]",
      "text/plain": [
       "<Figure size 1440x1440 with 1 Axes>"
      ]
     },
     "metadata": {
      "image/png": {
       "height": 1165,
       "width": 312
      },
      "needs_background": "light"
     },
     "output_type": "display_data"
    }
   ],
   "source": [
    "translate(\"일곱 명의 사망자가 발생했다.\", encoder, decoder)"
   ]
  },
  {
   "cell_type": "markdown",
   "id": "bright-rating",
   "metadata": {},
   "source": [
    "- 에포크 5일때 the the... the...the 로 번역됨\n",
    "\n",
    "- 설정값\n",
    "\n",
    "```\n",
    "BATCH_SIZE     = 64   \n",
    "SRC_VOCAB_SIZE = len(enc_tokenizer.index_word) + 1\n",
    "TGT_VOCAB_SIZE = len(dec_tokenizer.index_word) + 1\n",
    "\n",
    "units         = 128\n",
    "embedding_dim = 256\n",
    "\n",
    "encoder = Encoder(SRC_VOCAB_SIZE, embedding_dim, units)\n",
    "decoder = Decoder(TGT_VOCAB_SIZE, embedding_dim, units)\n",
    "\n",
    "sequence_len = 30\n",
    "```\n",
    "\n",
    "- 에포크 60으로 설정 1애폭당 4분 => 모델 학습에 240분 걸림\n"
   ]
  },
  {
   "cell_type": "markdown",
   "id": "external-belle",
   "metadata": {},
   "source": [
    "```\n",
    "## 예문 ##\n",
    "K1) 오바마는 대통령이다.\n",
    "K2) 시민들은 도시 속에 산다.\n",
    "K3) 커피는 필요 없다.\n",
    "K4) 일곱 명의 사망자가 발생했다.\n",
    "\n",
    "## 제출 ##\n",
    "E1) obama is the president . <end>\n",
    "E2) people are victims of the city . <end>\n",
    "E2) the price is not enough . <end>\n",
    "E2) seven people have died . <end>\n",
    "\n",
    "```\n",
    "\n",
    "![https://aiffelstaticprd.blob.core.windows.net/media/images/GN-4-P-4.max-800x600.jpg](https://aiffelstaticprd.blob.core.windows.net/media/images/GN-4-P-4.max-800x600.jpg)"
   ]
  },
  {
   "cell_type": "markdown",
   "id": "genuine-zimbabwe",
   "metadata": {},
   "source": [
    "아래의 기준을 바탕으로 프로젝트를 평가합니다.    \n",
    "**평가문항**       \n",
    "**상세기준**   \n",
    "\n",
    "**1. 번역기 모델 학습에 필요한 텍스트 데이터 전처리가 한국어 포함하여 잘 이루어졌다.**    \n",
    "구두점, 대소문자, 띄어쓰기, 한글 형태소분석 등 번역기 모델에 요구되는 전처리가 정상적으로 진행되었다.\n",
    "\n",
    "**2. Attentional Seq2seq 모델이 정상적으로 구동된다.**      \n",
    "seq2seq 모델 훈련 과정에서 training loss가 안정적으로 떨어지면서 학습이 진행됨이 확인되었다.\n",
    "\n",
    "**3. 테스트 결과 의미가 통하는 수준의 번역문이 생성되었다.**    \n",
    "테스트용 디코더 모델이 정상적으로 만들어져서, 정답과 어느 정도 유사한 영어 번역이 진행됨을 확인하였다."
   ]
  },
  {
   "cell_type": "markdown",
   "id": "hairy-reflection",
   "metadata": {},
   "source": [
    "정규표현식 표현     \n",
    "https://velog.io/@ednadev/%ED%8C%8C%EC%9D%B4%EC%8D%AC-%EC%A0%95%EA%B7%9C%ED%91%9C%ED%98%84%EC%8B%9D%EA%B3%BC-re%EB%AA%A8%EB%93%88"
   ]
  },
  {
   "cell_type": "markdown",
   "id": "floppy-arabic",
   "metadata": {},
   "source": [
    "- **`@tf.function`**\n",
    "데코레이터는 훈련 외적인 텐서플로우 연산을 GPU에서 동작하게 해 훈련을 가속할 수 있도록 도와줍니다. \n",
    "- [텐서플로 2.0의 tf.function과 오토그래프 (AutoGraph) | TensorFlow Core](https://www.tensorflow.org/guide/function?hl=ko)\n",
    "\n"
   ]
  },
  {
   "cell_type": "markdown",
   "id": "universal-absence",
   "metadata": {},
   "source": [
    "- **`tf.GradientTape()`**\n",
    " 는 학습하며 발생한 모든 연산을 기록하는 테이프입니다. 이것은 모델이 각 스텝의 최종 단계에서 미분값을 구하는 데에 사용됩니다.    \n",
    "- [텐서플로 2.0의 tf.function과 오토그래프 (AutoGraph) | TensorFlow Core](https://www.tensorflow.org/guide/function?hl=ko)"
   ]
  },
  {
   "cell_type": "markdown",
   "id": "smoking-guinea",
   "metadata": {},
   "source": []
  }
 ],
 "metadata": {
  "kernelspec": {
   "display_name": "aiffel",
   "language": "python",
   "name": "aiffel"
  },
  "language_info": {
   "codemirror_mode": {
    "name": "ipython",
    "version": 3
   },
   "file_extension": ".py",
   "mimetype": "text/x-python",
   "name": "python",
   "nbconvert_exporter": "python",
   "pygments_lexer": "ipython3",
   "version": "3.7.9"
  }
 },
 "nbformat": 4,
 "nbformat_minor": 5
}
